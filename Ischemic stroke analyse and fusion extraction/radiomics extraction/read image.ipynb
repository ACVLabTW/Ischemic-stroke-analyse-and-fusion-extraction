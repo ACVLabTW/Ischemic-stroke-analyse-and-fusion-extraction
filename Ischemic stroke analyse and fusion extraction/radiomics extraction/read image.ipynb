{
 "cells": [
  {
   "cell_type": "code",
   "execution_count": null,
   "id": "9016f642",
   "metadata": {
    "scrolled": true
   },
   "outputs": [],
   "source": [
    "import nibabel as nib\n",
    "import os\n",
    "import numpy as np\n",
    "import pandas as pd"
   ]
  },
  {
   "cell_type": "code",
   "execution_count": null,
   "id": "7301d665",
   "metadata": {},
   "outputs": [],
   "source": [
    "import matplotlib.pyplot as plt\n",
    "import scipy.ndimage"
   ]
  },
  {
   "cell_type": "code",
   "execution_count": null,
   "id": "ee27febd",
   "metadata": {},
   "outputs": [],
   "source": [
    "import itk\n",
    "from itkwidgets import view\n",
    "import itkwidgets"
   ]
  },
  {
   "cell_type": "code",
   "execution_count": null,
   "id": "5d016b7a",
   "metadata": {},
   "outputs": [],
   "source": [
    "#load lesion\n",
    "file_name = \"../data/origin data/\"\n",
    "datalist = os.listdir(file_name)\n",
    "\n",
    "\n",
    "for i in range(len(datalist)):\n",
    "    DWI_name = file_name+datalist[i]+'/lesion2MNI.nii.gz'\n",
    "    \n",
    "\n",
    "    DWI_nii = nib.load(DWI_name)\n",
    "    DWI_img = np.asarray(DWI_nii.dataobj)\n",
    "    print(datalist[i],\"has\",DWI_img.sum(),\"lesion voxel.\")"
   ]
  },
  {
   "cell_type": "code",
   "execution_count": null,
   "id": "8150a5d9",
   "metadata": {
    "scrolled": false
   },
   "outputs": [],
   "source": [
    "#load aal3 brain atlas\n",
    "label_name = '../data/MNI/AAL3_MNI.nii.gz'\n",
    "label_nii = nib.load(label_name)\n",
    "label_img = np.asarray(label_nii.dataobj)\n",
    "print(label_img.shape)\n",
    "print(label_img.max())\n",
    "count = 0\n",
    "for i in range(1,int(label_img.max())+1):\n",
    "    modified_img = label_img.copy()\n",
    "    modified_img[modified_img!=i] = 0\n",
    "    modified_img[modified_img==i] = 1\n",
    "    target = int(sum(sum(sum(modified_img))))\n",
    "    count += target\n",
    "    print(i,\"has\",target,\"voxel\")\n",
    "print(\"totally\",count,\"voxel not equal to 0.\")    "
   ]
  },
  {
   "cell_type": "markdown",
   "id": "b5950724",
   "metadata": {},
   "source": [
    "## show image"
   ]
  },
  {
   "cell_type": "code",
   "execution_count": null,
   "id": "3c6c508a",
   "metadata": {},
   "outputs": [],
   "source": [
    "#load MNI image\n",
    "MNI_name = '../data/origin data/is0175/diff2MNI.nii.gz'\n",
    "MNI_nii = nib.load(MNI_name)\n",
    "MNI_img = np.asarray(MNI_nii.dataobj,dtype=np.int16)\n",
    "print(MNI_img.shape)\n",
    "print(MNI_img.sum())"
   ]
  },
  {
   "cell_type": "code",
   "execution_count": null,
   "id": "0c8ab62d",
   "metadata": {
    "scrolled": true
   },
   "outputs": [],
   "source": [
    "#check target brain atlas location\n",
    "\n",
    "label_name = '../data/MNI/AAL3_MNI.nii.gz'\n",
    "label_nii = nib.load(label_name)\n",
    "label_img = np.asarray(label_nii.dataobj)\n",
    "target = 8\n",
    "label_img[label_img!=target] = 0\n",
    "label_img[label_img==target] = 1\n",
    "print(label_img.shape)\n",
    "print(label_img.sum())"
   ]
  },
  {
   "cell_type": "code",
   "execution_count": null,
   "id": "5a648182",
   "metadata": {},
   "outputs": [],
   "source": [
    "#generate a target-only brain region mask in rank and save in nii.gz format\n",
    "label_name = '../data/MNI/AAL3_MNI.nii.gz'\n",
    "label_nii = nib.load(label_name)\n",
    "label_img = np.asarray(label_nii.dataobj)\n",
    "label_affine = label_nii.affine\n",
    "\n",
    "label_img_2 = label_img.copy()\n",
    "mRSimp3 = [8,85,69]\n",
    "used = []\n",
    "rank=1\n",
    "for i in range(len(mRSimp3)):\n",
    "    if mRSimp3[i] not in used:\n",
    "        label_img_2[label_img==mRSimp3[i]] = rank\n",
    "        used.append(mRSimp3[i])\n",
    "        rank+=1\n",
    "for i in range(int(label_img.max())):\n",
    "    if i not in mRSimp3:\n",
    "        label_img_2[label_img==i] = 0\n",
    "        \n",
    "new_img = nib.Nifti1Image(label_nii.get_fdata(), label_nii.affine, label_nii.header)\n",
    "output_file = 'mRSimp_RFE_top3.nii.gz'\n",
    "nib.save(new_img, output_file)"
   ]
  },
  {
   "cell_type": "code",
   "execution_count": null,
   "id": "e6a3709e",
   "metadata": {},
   "outputs": [],
   "source": [
    "image_view_from_array = itk.image_view_from_array((MNI_img))\n",
    "\n",
    "print(image_view_from_array.shape)\n",
    "\n",
    "viewer = view(image_view_from_array,label_image_weights=(1,1),ui_collapsed=True)\n",
    "viewer"
   ]
  },
  {
   "cell_type": "code",
   "execution_count": null,
   "id": "383bde74",
   "metadata": {},
   "outputs": [],
   "source": [
    "label_view_from_array = itk.image_view_from_array((label_img))\n",
    "\n",
    "print(label_view_from_array.shape)\n",
    "\n",
    "viewer = view(label_view_from_array,label_image_weights=(1,1),ui_collapsed=True)\n",
    "viewer"
   ]
  },
  {
   "cell_type": "code",
   "execution_count": null,
   "id": "d532b56f",
   "metadata": {
    "scrolled": false
   },
   "outputs": [],
   "source": [
    "#overlay\n",
    "data_spacing = (1,1,1)\n",
    "\n",
    "image_from_array = itk.image_from_array(MNI_img)\n",
    "label_from_array = itk.image_from_array(label_img_2)\n",
    "\n",
    "print(image_from_array.shape)\n",
    "print(label_from_array.shape)\n",
    "\n",
    "#image_from_array.SetSpacing(data_spacing)\n",
    "#label_from_array.SetSpacing(data_spacing)\n",
    "\n",
    "viewer = view(image_from_array, label_image=label_from_array,label_image_weights=(1,1),cmp=itkwidgets.cm.grayscale,ui_collapsed=True)\n",
    "viewer"
   ]
  }
 ],
 "metadata": {
  "kernelspec": {
   "display_name": "Python 3 (ipykernel)",
   "language": "python",
   "name": "python3"
  },
  "language_info": {
   "codemirror_mode": {
    "name": "ipython",
    "version": 3
   },
   "file_extension": ".py",
   "mimetype": "text/x-python",
   "name": "python",
   "nbconvert_exporter": "python",
   "pygments_lexer": "ipython3",
   "version": "3.7.16"
  }
 },
 "nbformat": 4,
 "nbformat_minor": 5
}
